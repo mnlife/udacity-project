{
 "cells": [
  {
   "cell_type": "code",
   "execution_count": 1,
   "metadata": {},
   "outputs": [
    {
     "name": "stderr",
     "output_type": "stream",
     "text": [
      "/home/ubuntu/anaconda3/lib/python3.6/site-packages/h5py/__init__.py:36: FutureWarning: Conversion of the second argument of issubdtype from `float` to `np.floating` is deprecated. In future, it will be treated as `np.float64 == np.dtype(float).type`.\n",
      "  from ._conv import register_converters as _register_converters\n",
      "Using TensorFlow backend.\n"
     ]
    },
    {
     "name": "stdout",
     "output_type": "stream",
     "text": [
      "cat train_image_0 saved\n",
      "cat train_image_1 saved\n",
      "cat train_image_2 saved\n",
      "cat train_image_3 saved\n",
      "cat train_image_4 saved\n",
      "cat train_image_5 saved\n",
      "cat train_image_6 saved\n",
      "cat train_image_7 saved\n",
      "cat train_image_8 saved\n",
      "cat train_image_9 saved\n",
      "dog train_image_0 saved\n",
      "dog train_image_1 saved\n",
      "dog train_image_2 saved\n",
      "dog train_image_3 saved\n",
      "dog train_image_4 saved\n",
      "dog train_image_5 saved\n",
      "dog train_image_6 saved\n",
      "dog train_image_7 saved\n",
      "dog train_image_8 saved\n",
      "dog train_image_9 saved\n"
     ]
    }
   ],
   "source": [
    "from keras.preprocessing import image\n",
    "from keras.applications.inception_resnet_v2 import preprocess_input, decode_predictions\n",
    "import numpy as np\n",
    "import pickle\n",
    "animal_num_epoch = 1250\n",
    "epoch_num = int(12500/animal_num_epoch)\n",
    "\n",
    "def image_preprocess(animal = \"cat\",\n",
    "\t\t\t\t\t animal_num_epoch = animal_num_epoch,\n",
    "\t\t\t\t\t epoch_num = epoch_num):\n",
    "\tfor j in range(epoch_num):\n",
    "\t\tX_train = np.zeros((animal_num_epoch, 224, 224, 3))\n",
    "\t\tif animal == \"cat\":\n",
    "\t\t\tnum = 0\n",
    "\t\t\ty_train = np.zeros((animal_num_epoch, 1)).astype(int)\n",
    "\t\telse:\n",
    "\t\t\tnum = 10\n",
    "\t\t\ty_train = np.ones((animal_num_epoch, 1)).astype(int)\n",
    "\t\tfor i in range(j*animal_num_epoch, (j+1)*animal_num_epoch):\n",
    "\t\t\timg_path = 'train/'+str(animal)+'.'+str(i)+'.jpg'\n",
    "\t\t\timg = image.load_img(img_path, target_size = (224, 224))\n",
    "\t\t\tx = image.img_to_array(img)\n",
    "\t\t\tx = np.expand_dims(x, axis = 0)\n",
    "\t\t\tx = preprocess_input(x)\n",
    "\t\t\tX_train[i-j*animal_num_epoch] = x\n",
    "\t\t\t#print(x.shape)\n",
    "\t\t\t#print(\"*******************************************************\")\n",
    "\t\tpickle.dump((X_train, y_train), open(\"train_image_\"+str(j+num), 'wb'))\n",
    "\t\tprint(str(animal)+\" train_image_\"+str(j)+\" saved\")\n",
    "\n",
    "\n",
    "if __name__ == \"__main__\":\n",
    "\timage_preprocess(animal = 'cat')\n",
    "\timage_preprocess(animal = 'dog')"
   ]
  },
  {
   "cell_type": "code",
   "execution_count": 2,
   "metadata": {},
   "outputs": [],
   "source": [
    "from keras.preprocessing import image\n",
    "from keras.applications.inception_resnet_v2 import preprocess_input, decode_predictions\n",
    "import numpy as np\n",
    "import pickle\n",
    "def test_process():\n",
    "\n",
    "\tfor j in range(0, 10):\n",
    "\t\tX_test = np.zeros((1250, 224, 224, 3))\n",
    "\t\tfor i in range((int)(j*1250)+1, (int)((j+1)*1250)+1):\n",
    "\t\t\timg_path = 'test/'+str(i)+'.jpg'\n",
    "\t\t\timg = image.load_img(img_path, target_size = (224, 224))\n",
    "\t\t\tx = image.img_to_array(img)\n",
    "\t\t\tx = np.expand_dims(x, axis = 0)\n",
    "\t\t\tx = preprocess_input(x)\n",
    "\t\t\tX_test[i-((int)(j*1250)+1)] = x\n",
    "\t\tpickle.dump(X_test, open(\"test_image_\"+str(j), 'wb'))\n",
    "\t\tprint(\"test set propress batch:\"+ str(j))\n",
    "\tprint(\"test set prepress OK!\")"
   ]
  },
  {
   "cell_type": "code",
   "execution_count": 3,
   "metadata": {},
   "outputs": [
    {
     "name": "stdout",
     "output_type": "stream",
     "text": [
      "test set propress batch:0\n",
      "test set propress batch:1\n",
      "test set propress batch:2\n",
      "test set propress batch:3\n",
      "test set propress batch:4\n",
      "test set propress batch:5\n",
      "test set propress batch:6\n",
      "test set propress batch:7\n",
      "test set propress batch:8\n",
      "test set propress batch:9\n",
      "test set prepress OK!\n"
     ]
    }
   ],
   "source": [
    "if __name__ == \"__main__\":\n",
    "\ttest_process()"
   ]
  },
  {
   "cell_type": "code",
   "execution_count": null,
   "metadata": {},
   "outputs": [],
   "source": []
  }
 ],
 "metadata": {
  "kernelspec": {
   "display_name": "Python 3",
   "language": "python",
   "name": "python3"
  },
  "language_info": {
   "codemirror_mode": {
    "name": "ipython",
    "version": 3
   },
   "file_extension": ".py",
   "mimetype": "text/x-python",
   "name": "python",
   "nbconvert_exporter": "python",
   "pygments_lexer": "ipython3",
   "version": "3.6.4"
  }
 },
 "nbformat": 4,
 "nbformat_minor": 2
}
