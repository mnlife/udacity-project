{
 "cells": [
  {
   "cell_type": "code",
   "execution_count": 1,
   "metadata": {
    "collapsed": true
   },
   "outputs": [],
   "source": [
    "import os\n",
    "import shutil\n",
    "\n",
    "train_filenames = os.listdir('train')\n",
    "train_cat = filter(lambda x:x[:3] == 'cat', train_filenames)\n",
    "train_dog = filter(lambda x:x[:3] == 'dog', train_filenames)\n",
    "\n",
    "def rmrf_mkdir(dirname):\n",
    "    if os.path.exists(dirname):\n",
    "        shutil.rmtree(dirname)\n",
    "    os.mkdir(dirname)\n",
    "\n",
    "rmrf_mkdir('train2')\n",
    "os.mkdir('train2/cat')\n",
    "os.mkdir('train2/dog')\n",
    "\n",
    "rmrf_mkdir('test2')\n",
    "os.symlink('../test/', 'test2/test')\n",
    "\n",
    "for filename in train_cat:\n",
    "    os.symlink('../../train/'+filename, 'train2/cat/'+filename)\n",
    "\n",
    "for filename in train_dog:\n",
    "    os.symlink('../../train/'+filename, 'train2/dog/'+filename)"
   ]
  },
  {
   "cell_type": "code",
   "execution_count": 3,
   "metadata": {},
   "outputs": [
    {
     "name": "stderr",
     "output_type": "stream",
     "text": [
      "/home/ubuntu/anaconda3/lib/python3.6/site-packages/h5py/__init__.py:36: FutureWarning: Conversion of the second argument of issubdtype from `float` to `np.floating` is deprecated. In future, it will be treated as `np.float64 == np.dtype(float).type`.\n",
      "  from ._conv import register_converters as _register_converters\n",
      "Using TensorFlow backend.\n"
     ]
    },
    {
     "name": "stdout",
     "output_type": "stream",
     "text": [
      "Found 25000 images belonging to 2 classes.\n",
      "Found 12500 images belonging to 1 classes.\n",
      "Found 25000 images belonging to 2 classes.\n",
      "Found 12500 images belonging to 1 classes.\n",
      "Found 25000 images belonging to 2 classes.\n",
      "Found 12500 images belonging to 1 classes.\n"
     ]
    }
   ],
   "source": [
    "from keras.models import *\n",
    "from keras.layers import *\n",
    "from keras.applications import *\n",
    "from keras.applications import ResNet50\n",
    "from keras.preprocessing.image import *\n",
    "\n",
    "import h5py\n",
    "\n",
    "def write_gap(MODEL, image_size, lambda_func=None):\n",
    "    width = image_size[0]\n",
    "    height = image_size[1]\n",
    "    input_tensor = Input((height, width, 3))\n",
    "    x = input_tensor\n",
    "    if lambda_func:\n",
    "        x = Lambda(lambda_func)(x)\n",
    "        \n",
    "    base_model = MODEL(input_tensor=x, weights='imagenet', include_top=False)\n",
    "    model = Model(base_model.input, GlobalAveragePooling2D()(base_model.output))\n",
    "\n",
    "    gen = ImageDataGenerator(\n",
    "        rotation_range=40)\n",
    "    #,\n",
    "    #    width_shift_range = 0.2,\n",
    "    #    height_shift_range = 0.2,\n",
    "   #     shear_range = 0.2,\n",
    "     #   zoom_range = 0.2,\n",
    "     #   horizontal_flip = True,\n",
    "     #   vertical_flip = True,\n",
    "     #   fill_mode= 'nearest')\n",
    "    test_gen = ImageDataGenerator()\n",
    "    train_generator = gen.flow_from_directory(\"train2\", image_size, shuffle=False, \n",
    "                                              batch_size=16,class_mode='binary')\n",
    "    test_generator = test_gen.flow_from_directory(\"test2\", image_size, shuffle=False, \n",
    "                                             batch_size=16, class_mode='binary')\n",
    "\n",
    "    train = model.predict_generator(train_generator)\n",
    "    test = model.predict_generator(test_generator)\n",
    "    with h5py.File(\"gap_%s.h5\"%MODEL.__name__) as h:\n",
    "        h.create_dataset(\"train\", data=train)\n",
    "        h.create_dataset(\"test\", data=test)\n",
    "        h.create_dataset(\"label\", data=train_generator.classes)\n",
    "# 对模型进行预处理,并将提取到的特征存入文件\n",
    "write_gap(InceptionResNetV2, (299, 299), inception_resnet_v2.preprocess_input)\n",
    "write_gap(InceptionV3, (299, 299), inception_v3.preprocess_input)\n",
    "write_gap(Xception, (299, 299), xception.preprocess_input)\n",
    "#write_gap(DenseNet201, (224, 224))\n",
    "#write_gap(VGG19, (224, 224), vgg19.preprocess_input)\n",
    "#write_gap(ResNet50, (224, 224), resnet50.preprocess_input)"
   ]
  },
  {
   "cell_type": "code",
   "execution_count": 2,
   "metadata": {},
   "outputs": [
    {
     "name": "stderr",
     "output_type": "stream",
     "text": [
      "/home/ubuntu/anaconda3/lib/python3.6/site-packages/h5py/__init__.py:36: FutureWarning: Conversion of the second argument of issubdtype from `float` to `np.floating` is deprecated. In future, it will be treated as `np.float64 == np.dtype(float).type`.\n",
      "  from ._conv import register_converters as _register_converters\n"
     ]
    }
   ],
   "source": [
    "import h5py\n",
    "import numpy as np\n",
    "from sklearn.utils import shuffle\n",
    "np.random.seed(2018)\n",
    "\n",
    "X_train = []\n",
    "X_test = []\n",
    "# 将三个模型的特征全部提取出来, 并进行简单的拼接, 融合\n",
    "for filename in [\"gap_InceptionResNetV2.h5\", \"gap_Xception.h5\", \"gap_InceptionV3.h5\"]:#, \"gap_ResNet50.h5\", \"gap_VGG19.h5\", \"gap_DenseNet201.h5\"]:\n",
    "    with h5py.File(filename, 'r') as h:\n",
    "        X_train.append(np.array(h['train']))\n",
    "        X_test.append(np.array(h['test']))\n",
    "        y_train = np.array(h['label'])\n",
    "\n",
    "X_train = np.concatenate(X_train, axis=1)\n",
    "X_test = np.concatenate(X_test, axis=1)\n",
    "\n",
    "X_train, y_train = shuffle(X_train, y_train)"
   ]
  },
  {
   "cell_type": "code",
   "execution_count": 3,
   "metadata": {},
   "outputs": [
    {
     "name": "stderr",
     "output_type": "stream",
     "text": [
      "Using TensorFlow backend.\n"
     ]
    }
   ],
   "source": [
    "from keras.models import *\n",
    "from keras.layers import *\n",
    "from keras.optimizers import Adadelta\n",
    "np.random.seed(2018)\n",
    "\n",
    "# 定义后面的全连接层\n",
    "input_tensor = Input(X_train.shape[1:])\n",
    "x = Dropout(0.5)(input_tensor)\n",
    "#x = BatchNormalization(axis=3, scale=False, name='_bn')(x)\n",
    "x = Dense(1024, activation = 'relu')(x)\n",
    "x = Dropout(0.5)(x)\n",
    "x = Dense(256, activation = 'relu')(x)\n",
    "x = Dropout(0.5)(x)\n",
    "x = Dense(1, activation='sigmoid')(x)\n",
    "model = Model(input_tensor, x)\n",
    "#model.compile(optimizer='adadelta',loss='binary_crossentropy',metrics=['accuracy'])\n",
    "#model.compile(optimizer='Adam', loss = 'binary_crossentropy', metrics = [\"accuracy\"])\n",
    "model.compile(optimizer=Adadelta(lr=0.005), loss = 'binary_crossentropy', metrics = [\"accuracy\"])"
   ]
  },
  {
   "cell_type": "code",
   "execution_count": 4,
   "metadata": {},
   "outputs": [
    {
     "name": "stdout",
     "output_type": "stream",
     "text": [
      "_________________________________________________________________\n",
      "Layer (type)                 Output Shape              Param #   \n",
      "=================================================================\n",
      "input_1 (InputLayer)         (None, 5632)              0         \n",
      "_________________________________________________________________\n",
      "dropout_1 (Dropout)          (None, 5632)              0         \n",
      "_________________________________________________________________\n",
      "dense_1 (Dense)              (None, 1024)              5768192   \n",
      "_________________________________________________________________\n",
      "dropout_2 (Dropout)          (None, 1024)              0         \n",
      "_________________________________________________________________\n",
      "dense_2 (Dense)              (None, 256)               262400    \n",
      "_________________________________________________________________\n",
      "dropout_3 (Dropout)          (None, 256)               0         \n",
      "_________________________________________________________________\n",
      "dense_3 (Dense)              (None, 1)                 257       \n",
      "=================================================================\n",
      "Total params: 6,030,849\n",
      "Trainable params: 6,030,849\n",
      "Non-trainable params: 0\n",
      "_________________________________________________________________\n"
     ]
    }
   ],
   "source": [
    "model.summary()\n"
   ]
  },
  {
   "cell_type": "code",
   "execution_count": 5,
   "metadata": {
    "collapsed": true
   },
   "outputs": [],
   "source": [
    "from keras.callbacks import TensorBoard"
   ]
  },
  {
   "cell_type": "code",
   "execution_count": 6,
   "metadata": {},
   "outputs": [
    {
     "name": "stdout",
     "output_type": "stream",
     "text": [
      "Train on 20000 samples, validate on 5000 samples\n",
      "Epoch 1/20\n",
      "20000/20000 [==============================] - 2s 116us/step - loss: 0.5473 - acc: 0.7233 - val_loss: 0.2136 - val_acc: 0.9892\n",
      "Epoch 2/20\n",
      "20000/20000 [==============================] - 1s 53us/step - loss: 0.2653 - acc: 0.9129 - val_loss: 0.0924 - val_acc: 0.9896\n",
      "Epoch 3/20\n",
      "20000/20000 [==============================] - 1s 53us/step - loss: 0.1600 - acc: 0.9565 - val_loss: 0.0567 - val_acc: 0.9896\n",
      "Epoch 4/20\n",
      "20000/20000 [==============================] - 1s 53us/step - loss: 0.1153 - acc: 0.9695 - val_loss: 0.0437 - val_acc: 0.9904\n",
      "Epoch 5/20\n",
      "20000/20000 [==============================] - 1s 53us/step - loss: 0.0918 - acc: 0.9750 - val_loss: 0.0374 - val_acc: 0.9904\n",
      "Epoch 6/20\n",
      "20000/20000 [==============================] - 1s 53us/step - loss: 0.0779 - acc: 0.9783 - val_loss: 0.0338 - val_acc: 0.9922\n",
      "Epoch 7/20\n",
      "20000/20000 [==============================] - 1s 53us/step - loss: 0.0692 - acc: 0.9802 - val_loss: 0.0315 - val_acc: 0.9926\n",
      "Epoch 8/20\n",
      "20000/20000 [==============================] - 1s 53us/step - loss: 0.0628 - acc: 0.9820 - val_loss: 0.0300 - val_acc: 0.9928\n",
      "Epoch 9/20\n",
      "20000/20000 [==============================] - 1s 53us/step - loss: 0.0600 - acc: 0.9826 - val_loss: 0.0289 - val_acc: 0.9928\n",
      "Epoch 10/20\n",
      "20000/20000 [==============================] - 1s 53us/step - loss: 0.0531 - acc: 0.9840 - val_loss: 0.0281 - val_acc: 0.9928\n",
      "Epoch 11/20\n",
      "20000/20000 [==============================] - 1s 52us/step - loss: 0.0539 - acc: 0.9846 - val_loss: 0.0276 - val_acc: 0.9926\n",
      "Epoch 12/20\n",
      "20000/20000 [==============================] - 1s 53us/step - loss: 0.0516 - acc: 0.9847 - val_loss: 0.0272 - val_acc: 0.9934\n",
      "Epoch 13/20\n",
      "20000/20000 [==============================] - 1s 53us/step - loss: 0.0490 - acc: 0.9849 - val_loss: 0.0269 - val_acc: 0.9934\n",
      "Epoch 14/20\n",
      "20000/20000 [==============================] - 1s 52us/step - loss: 0.0471 - acc: 0.9862 - val_loss: 0.0265 - val_acc: 0.9934\n",
      "Epoch 15/20\n",
      "20000/20000 [==============================] - 1s 52us/step - loss: 0.0454 - acc: 0.9864 - val_loss: 0.0265 - val_acc: 0.9932\n",
      "Epoch 16/20\n",
      "20000/20000 [==============================] - 1s 53us/step - loss: 0.0450 - acc: 0.9864 - val_loss: 0.0264 - val_acc: 0.9934\n",
      "Epoch 17/20\n",
      "20000/20000 [==============================] - 1s 53us/step - loss: 0.0425 - acc: 0.9868 - val_loss: 0.0261 - val_acc: 0.9932\n",
      "Epoch 18/20\n",
      "20000/20000 [==============================] - 1s 53us/step - loss: 0.0450 - acc: 0.9862 - val_loss: 0.0261 - val_acc: 0.9934\n",
      "Epoch 19/20\n",
      "20000/20000 [==============================] - 1s 53us/step - loss: 0.0422 - acc: 0.9868 - val_loss: 0.0262 - val_acc: 0.9934\n",
      "Epoch 20/20\n",
      "20000/20000 [==============================] - 1s 53us/step - loss: 0.0401 - acc: 0.9877 - val_loss: 0.0262 - val_acc: 0.9936\n"
     ]
    },
    {
     "data": {
      "text/plain": [
       "<keras.callbacks.History at 0x7f06d80e54e0>"
      ]
     },
     "execution_count": 6,
     "metadata": {},
     "output_type": "execute_result"
    }
   ],
   "source": [
    "# 对模型在tensorboard上进行可视化\n",
    "model.fit(X_train, y_train, batch_size=128, epochs=20, validation_split=0.2, callbacks=[TensorBoard(log_dir='mytensorboard/4')])\n"
   ]
  },
  {
   "cell_type": "code",
   "execution_count": 7,
   "metadata": {},
   "outputs": [
    {
     "name": "stdout",
     "output_type": "stream",
     "text": [
      "12500/12500 [==============================] - 1s 43us/step\n",
      "Found 12500 images belonging to 1 classes.\n"
     ]
    },
    {
     "name": "stderr",
     "output_type": "stream",
     "text": [
      "/home/ubuntu/anaconda3/lib/python3.6/site-packages/ipykernel_launcher.py:16: FutureWarning: set_value is deprecated and will be removed in a future release. Please use .at[] or .iat[] accessors instead\n",
      "  app.launch_new_instance()\n"
     ]
    },
    {
     "data": {
      "text/html": [
       "<div>\n",
       "<style scoped>\n",
       "    .dataframe tbody tr th:only-of-type {\n",
       "        vertical-align: middle;\n",
       "    }\n",
       "\n",
       "    .dataframe tbody tr th {\n",
       "        vertical-align: top;\n",
       "    }\n",
       "\n",
       "    .dataframe thead th {\n",
       "        text-align: right;\n",
       "    }\n",
       "</style>\n",
       "<table border=\"1\" class=\"dataframe\">\n",
       "  <thead>\n",
       "    <tr style=\"text-align: right;\">\n",
       "      <th></th>\n",
       "      <th>id</th>\n",
       "      <th>label</th>\n",
       "    </tr>\n",
       "  </thead>\n",
       "  <tbody>\n",
       "    <tr>\n",
       "      <th>0</th>\n",
       "      <td>1</td>\n",
       "      <td>0.995</td>\n",
       "    </tr>\n",
       "    <tr>\n",
       "      <th>1</th>\n",
       "      <td>2</td>\n",
       "      <td>0.995</td>\n",
       "    </tr>\n",
       "    <tr>\n",
       "      <th>2</th>\n",
       "      <td>3</td>\n",
       "      <td>0.995</td>\n",
       "    </tr>\n",
       "    <tr>\n",
       "      <th>3</th>\n",
       "      <td>4</td>\n",
       "      <td>0.995</td>\n",
       "    </tr>\n",
       "    <tr>\n",
       "      <th>4</th>\n",
       "      <td>5</td>\n",
       "      <td>0.005</td>\n",
       "    </tr>\n",
       "    <tr>\n",
       "      <th>5</th>\n",
       "      <td>6</td>\n",
       "      <td>0.005</td>\n",
       "    </tr>\n",
       "    <tr>\n",
       "      <th>6</th>\n",
       "      <td>7</td>\n",
       "      <td>0.005</td>\n",
       "    </tr>\n",
       "    <tr>\n",
       "      <th>7</th>\n",
       "      <td>8</td>\n",
       "      <td>0.005</td>\n",
       "    </tr>\n",
       "    <tr>\n",
       "      <th>8</th>\n",
       "      <td>9</td>\n",
       "      <td>0.005</td>\n",
       "    </tr>\n",
       "    <tr>\n",
       "      <th>9</th>\n",
       "      <td>10</td>\n",
       "      <td>0.005</td>\n",
       "    </tr>\n",
       "  </tbody>\n",
       "</table>\n",
       "</div>"
      ],
      "text/plain": [
       "   id  label\n",
       "0   1  0.995\n",
       "1   2  0.995\n",
       "2   3  0.995\n",
       "3   4  0.995\n",
       "4   5  0.005\n",
       "5   6  0.005\n",
       "6   7  0.005\n",
       "7   8  0.005\n",
       "8   9  0.005\n",
       "9  10  0.005"
      ]
     },
     "execution_count": 7,
     "metadata": {},
     "output_type": "execute_result"
    }
   ],
   "source": [
    "y_pred = model.predict(X_test, verbose=1)\n",
    "y_pred = y_pred.clip(min=0.005, max=0.995)\n",
    "\n",
    "import pandas as pd\n",
    "from ipykernel import kernelapp as app\n",
    "from keras.preprocessing.image import *\n",
    "\n",
    "df = pd.read_csv(\"sample_submission.csv\")\n",
    "# 对模型进行测试, 并将测试结果存入.csv文件中\n",
    "gen = ImageDataGenerator()\n",
    "test_generator = gen.flow_from_directory(\"test2\", (299, 299), shuffle=False, \n",
    "                                         batch_size=16, class_mode=None)\n",
    "\n",
    "for i, fname in enumerate(test_generator.filenames):\n",
    "    index = int(fname[fname.rfind('/')+1:fname.rfind('.')])\n",
    "    df.set_value(index-1, 'label', y_pred[i])\n",
    "\n",
    "df.to_csv('submission.csv', index=None)\n",
    "df.head(10)"
   ]
  },
  {
   "cell_type": "code",
   "execution_count": 8,
   "metadata": {},
   "outputs": [
    {
     "data": {
      "image/svg+xml": [
       "<svg height=\"483pt\" viewBox=\"0.00 0.00 168.00 483.00\" width=\"168pt\" xmlns=\"http://www.w3.org/2000/svg\" xmlns:xlink=\"http://www.w3.org/1999/xlink\">\n",
       "<g class=\"graph\" id=\"graph0\" transform=\"scale(1 1) rotate(0) translate(4 479)\">\n",
       "<title>G</title>\n",
       "<polygon fill=\"white\" points=\"-4,4 -4,-479 164,-479 164,4 -4,4\" stroke=\"none\"/>\n",
       "<!-- 139670053881336 -->\n",
       "<g class=\"node\" id=\"node1\"><title>139670053881336</title>\n",
       "<polygon fill=\"none\" points=\"0,-438.5 0,-474.5 160,-474.5 160,-438.5 0,-438.5\" stroke=\"black\"/>\n",
       "<text font-family=\"Times,serif\" font-size=\"14.00\" text-anchor=\"middle\" x=\"80\" y=\"-452.8\">input_1: InputLayer</text>\n",
       "</g>\n",
       "<!-- 139670067199448 -->\n",
       "<g class=\"node\" id=\"node2\"><title>139670067199448</title>\n",
       "<polygon fill=\"none\" points=\"1.5,-365.5 1.5,-401.5 158.5,-401.5 158.5,-365.5 1.5,-365.5\" stroke=\"black\"/>\n",
       "<text font-family=\"Times,serif\" font-size=\"14.00\" text-anchor=\"middle\" x=\"80\" y=\"-379.8\">dropout_1: Dropout</text>\n",
       "</g>\n",
       "<!-- 139670053881336&#45;&gt;139670067199448 -->\n",
       "<g class=\"edge\" id=\"edge1\"><title>139670053881336-&gt;139670067199448</title>\n",
       "<path d=\"M80,-438.313C80,-430.289 80,-420.547 80,-411.569\" fill=\"none\" stroke=\"black\"/>\n",
       "<polygon fill=\"black\" points=\"83.5001,-411.529 80,-401.529 76.5001,-411.529 83.5001,-411.529\" stroke=\"black\"/>\n",
       "</g>\n",
       "<!-- 139669965638736 -->\n",
       "<g class=\"node\" id=\"node3\"><title>139669965638736</title>\n",
       "<polygon fill=\"none\" points=\"16,-292.5 16,-328.5 144,-328.5 144,-292.5 16,-292.5\" stroke=\"black\"/>\n",
       "<text font-family=\"Times,serif\" font-size=\"14.00\" text-anchor=\"middle\" x=\"80\" y=\"-306.8\">dense_1: Dense</text>\n",
       "</g>\n",
       "<!-- 139670067199448&#45;&gt;139669965638736 -->\n",
       "<g class=\"edge\" id=\"edge2\"><title>139670067199448-&gt;139669965638736</title>\n",
       "<path d=\"M80,-365.313C80,-357.289 80,-347.547 80,-338.569\" fill=\"none\" stroke=\"black\"/>\n",
       "<polygon fill=\"black\" points=\"83.5001,-338.529 80,-328.529 76.5001,-338.529 83.5001,-338.529\" stroke=\"black\"/>\n",
       "</g>\n",
       "<!-- 139669963089064 -->\n",
       "<g class=\"node\" id=\"node4\"><title>139669963089064</title>\n",
       "<polygon fill=\"none\" points=\"1.5,-219.5 1.5,-255.5 158.5,-255.5 158.5,-219.5 1.5,-219.5\" stroke=\"black\"/>\n",
       "<text font-family=\"Times,serif\" font-size=\"14.00\" text-anchor=\"middle\" x=\"80\" y=\"-233.8\">dropout_2: Dropout</text>\n",
       "</g>\n",
       "<!-- 139669965638736&#45;&gt;139669963089064 -->\n",
       "<g class=\"edge\" id=\"edge3\"><title>139669965638736-&gt;139669963089064</title>\n",
       "<path d=\"M80,-292.313C80,-284.289 80,-274.547 80,-265.569\" fill=\"none\" stroke=\"black\"/>\n",
       "<polygon fill=\"black\" points=\"83.5001,-265.529 80,-255.529 76.5001,-265.529 83.5001,-265.529\" stroke=\"black\"/>\n",
       "</g>\n",
       "<!-- 139670710346304 -->\n",
       "<g class=\"node\" id=\"node5\"><title>139670710346304</title>\n",
       "<polygon fill=\"none\" points=\"16,-146.5 16,-182.5 144,-182.5 144,-146.5 16,-146.5\" stroke=\"black\"/>\n",
       "<text font-family=\"Times,serif\" font-size=\"14.00\" text-anchor=\"middle\" x=\"80\" y=\"-160.8\">dense_2: Dense</text>\n",
       "</g>\n",
       "<!-- 139669963089064&#45;&gt;139670710346304 -->\n",
       "<g class=\"edge\" id=\"edge4\"><title>139669963089064-&gt;139670710346304</title>\n",
       "<path d=\"M80,-219.313C80,-211.289 80,-201.547 80,-192.569\" fill=\"none\" stroke=\"black\"/>\n",
       "<polygon fill=\"black\" points=\"83.5001,-192.529 80,-182.529 76.5001,-192.529 83.5001,-192.529\" stroke=\"black\"/>\n",
       "</g>\n",
       "<!-- 139670692290008 -->\n",
       "<g class=\"node\" id=\"node6\"><title>139670692290008</title>\n",
       "<polygon fill=\"none\" points=\"1.5,-73.5 1.5,-109.5 158.5,-109.5 158.5,-73.5 1.5,-73.5\" stroke=\"black\"/>\n",
       "<text font-family=\"Times,serif\" font-size=\"14.00\" text-anchor=\"middle\" x=\"80\" y=\"-87.8\">dropout_3: Dropout</text>\n",
       "</g>\n",
       "<!-- 139670710346304&#45;&gt;139670692290008 -->\n",
       "<g class=\"edge\" id=\"edge5\"><title>139670710346304-&gt;139670692290008</title>\n",
       "<path d=\"M80,-146.313C80,-138.289 80,-128.547 80,-119.569\" fill=\"none\" stroke=\"black\"/>\n",
       "<polygon fill=\"black\" points=\"83.5001,-119.529 80,-109.529 76.5001,-119.529 83.5001,-119.529\" stroke=\"black\"/>\n",
       "</g>\n",
       "<!-- 139667660534896 -->\n",
       "<g class=\"node\" id=\"node7\"><title>139667660534896</title>\n",
       "<polygon fill=\"none\" points=\"16,-0.5 16,-36.5 144,-36.5 144,-0.5 16,-0.5\" stroke=\"black\"/>\n",
       "<text font-family=\"Times,serif\" font-size=\"14.00\" text-anchor=\"middle\" x=\"80\" y=\"-14.8\">dense_3: Dense</text>\n",
       "</g>\n",
       "<!-- 139670692290008&#45;&gt;139667660534896 -->\n",
       "<g class=\"edge\" id=\"edge6\"><title>139670692290008-&gt;139667660534896</title>\n",
       "<path d=\"M80,-73.3129C80,-65.2895 80,-55.5475 80,-46.5691\" fill=\"none\" stroke=\"black\"/>\n",
       "<polygon fill=\"black\" points=\"83.5001,-46.5288 80,-36.5288 76.5001,-46.5289 83.5001,-46.5288\" stroke=\"black\"/>\n",
       "</g>\n",
       "</g>\n",
       "</svg>"
      ],
      "text/plain": [
       "<IPython.core.display.SVG object>"
      ]
     },
     "execution_count": 8,
     "metadata": {},
     "output_type": "execute_result"
    }
   ],
   "source": [
    "from IPython.display import SVG\n",
    "from keras.utils.vis_utils import model_to_dot\n",
    "from keras.utils import plot_model\n",
    "plot_model(model, to_file='model.png')\n",
    "SVG(model_to_dot(model).create(prog='dot', format='svg'))"
   ]
  },
  {
   "cell_type": "code",
   "execution_count": null,
   "metadata": {
    "collapsed": true
   },
   "outputs": [],
   "source": []
  }
 ],
 "metadata": {
  "kernelspec": {
   "display_name": "Python 3",
   "language": "python",
   "name": "python3"
  },
  "language_info": {
   "codemirror_mode": {
    "name": "ipython",
    "version": 3
   },
   "file_extension": ".py",
   "mimetype": "text/x-python",
   "name": "python",
   "nbconvert_exporter": "python",
   "pygments_lexer": "ipython3",
   "version": "3.6.4"
  }
 },
 "nbformat": 4,
 "nbformat_minor": 2
}
